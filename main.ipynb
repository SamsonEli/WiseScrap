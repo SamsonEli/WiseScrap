{
 "cells": [
  {
   "cell_type": "code",
   "execution_count": 36,
   "metadata": {},
   "outputs": [],
   "source": [
    "from selenium import webdriver\n",
    "from selenium.webdriver.common.by import By\n",
    "from selenium.webdriver.common.keys import Keys\n",
    "from selenium.webdriver.support.ui import WebDriverWait\n",
    "from selenium.webdriver.support import expected_conditions as EC\n",
    "from selenium.webdriver.chrome.service import Service\n",
    "from webdriver_manager.chrome import ChromeDriverManager\n",
    "import pandas as pd\n",
    "import time\n",
    "from datetime import datetime"
   ]
  },
  {
   "cell_type": "code",
   "execution_count": 39,
   "metadata": {},
   "outputs": [
    {
     "name": "stdout",
     "output_type": "stream",
     "text": [
      "2024-11-06 18:12:49.586493\n",
      "Text found: 40.80 SGD\n",
      "\n",
      "  Source_Amount Target_Amount Rails_Fee   Our_Fee Total_Fee  \\\n",
      "0         1,000      3,294.30     0 SGD  3.95 SGD  3.95 SGD   \n",
      "\n",
      "  Total_Amount_Converted    Rate guaranateed_time  \n",
      "0             996.05 SGD  3.3074            (48h)  \n"
     ]
    }
   ],
   "source": [
    "current_time = datetime.now()\n",
    "print(current_time)\n",
    "\n",
    "try:\n",
    "    service = Service(ChromeDriverManager().install())\n",
    "    driver = webdriver.Chrome(service=service)\n",
    "    # Open the Wikipedia main page\n",
    "    driver.get(\"https://www.wise.com/sg/business/\")\n",
    "    # driver.get(\"https://www.google.com\")\n",
    "    # driver.get(\"https://en.wikipedia.org/wiki/Main_Page\")\n",
    "\n",
    "    data = []\n",
    "\n",
    "    time.sleep(2)\n",
    "\n",
    "    # element = driver.find_element(By.XPATH, '/html/body/div[1]/div/div/div/div[2]/main/main/section[3]/div/div/div[1]/div/div/div[2]/div/div/div/div[2]/div[1]/p/span')\n",
    "    # text = element.text\n",
    "    # print(\"Text found:\", text)\n",
    "\n",
    "\n",
    "    # element_click = driver.find_element(By.XPATH, \"/html/body/div[1]/div/div/div/div[2]/main/main/section[3]/div/div/div[1]/div/div/div[2]/div/div/div/div[1]/div[1]/div/div/div/div/fieldset\")\n",
    "    # element_click.click()\n",
    "\n",
    "    # element = WebDriverWait(driver, 10).until(\n",
    "    #     EC.element_to_be_clickable((By.XPATH, '/html/body/div[1]/div/div/div/div[2]/main/main/section[3]/div/div/div[1]/div/div/div[2]/div/div/div/div[1]/div[1]/div/div/div/div/fieldset'))\n",
    "    #     )\n",
    "    # element.click()\n",
    "\n",
    "    # news_section = driver.find_element(By.ID, \"mp-itn\")\n",
    "    \n",
    "    # headlines = news_section.find_elements(By.TAG_NAME, \"li\")\n",
    "\n",
    "    # # Print each headline\n",
    "    # print(\"Wikipedia 'In the News' Headlines:\")\n",
    "    # for headline in headlines:\n",
    "    #     print(\"-\", headline.text)\n",
    "\n",
    "    source_amount_element = driver.find_element(By.XPATH, '/html/body/div[1]/div/div/div/div[2]/main/main/section[3]/div/div/div[1]/div/div/div[2]/div/div/div/div[1]/div[1]/div/div/div/input')\n",
    "    target_amount_element = driver.find_element(By.XPATH, '/html/body/div[1]/div/div/div/div[2]/main/main/section[3]/div/div/div[1]/div/div/div[2]/div/div/div/div[1]/div[2]/div/div/div/input')\n",
    "    rails_fee_element = driver.find_element(By.XPATH, '/html/body/div[1]/div/div/div/div[2]/main/main/section[3]/div/div/div[1]/div/div/div[2]/div/div/div/div[1]/ul/li[1]/div/span[1]')\n",
    "    our_fee_element = driver.find_element(By.XPATH, '/html/body/div[1]/div/div/div/div[2]/main/main/section[3]/div/div/div[1]/div/div/div[2]/div/div/div/div[1]/ul/li[2]/div/span[1]')\n",
    "    total_fee_element = driver.find_element(By.XPATH, '/html/body/div[1]/div/div/div/div[2]/main/main/section[3]/div/div/div[1]/div/div/div[2]/div/div/div/div[1]/ul/li[3]/div/span[1]')\n",
    "    total_amount_convert_element = driver.find_element(By.XPATH, '/html/body/div[1]/div/div/div/div[2]/main/main/section[3]/div/div/div[1]/div/div/div[2]/div/div/div/div[1]/ul/li[5]/div/span[1]')\n",
    "    rate_element = driver.find_element(By.XPATH, '/html/body/div[1]/div/div/div/div[2]/main/main/section[3]/div/div/div[1]/div/div/div[2]/div/div/div/div[1]/ul/li[6]/div/span[1]/a/span')\n",
    "    guranteed_time_element = driver.find_element(By.XPATH, '/html/body/div[1]/div/div/div/div[2]/main/main/section[3]/div/div/div[1]/div/div/div[2]/div/div/div/div[1]/ul/li[6]/div/span[2]/span/span/button/span[2]')\n",
    "\n",
    "\n",
    "    data.append({\n",
    "        'Source_Currency':'',\n",
    "        'Target_Currency':'',\n",
    "        'Source_Amount': source_amount_element.get_attribute('value'),\n",
    "        'Target_Amount': target_amount_element.get_attribute('value'),\n",
    "        'Rails_Fee': rails_fee_element.text,\n",
    "        'Our_Fee': our_fee_element.text,\n",
    "        'Total_Fee': total_fee_element.text,\n",
    "        'Total_Amount_Converted': total_amount_convert_element.text,\n",
    "        'Rate':rate_element.text,\n",
    "        'guaranateed_time': guranteed_time_element.text\n",
    "    })\n",
    "\n",
    "#send amount, receive amount, saveupto, arriveinseconds\n",
    "\n",
    "finally:\n",
    "    print(\"\")\n",
    "    df = pd.DataFrame(data)\n",
    "    print(df)\n",
    "    # Close the browser\n",
    "    # driver.quit()\n",
    "\n",
    "\n"
   ]
  }
 ],
 "metadata": {
  "kernelspec": {
   "display_name": "main",
   "language": "python",
   "name": "python3"
  },
  "language_info": {
   "codemirror_mode": {
    "name": "ipython",
    "version": 3
   },
   "file_extension": ".py",
   "mimetype": "text/x-python",
   "name": "python",
   "nbconvert_exporter": "python",
   "pygments_lexer": "ipython3",
   "version": "3.11.5"
  }
 },
 "nbformat": 4,
 "nbformat_minor": 2
}
